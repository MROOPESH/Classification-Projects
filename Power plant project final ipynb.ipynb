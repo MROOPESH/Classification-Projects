{
 "cells": [
  {
   "cell_type": "code",
   "execution_count": null,
   "metadata": {},
   "outputs": [],
   "source": [
    "import pandas as pd\n",
    "import numpy as np\n",
    "import seaborn as sns\n",
    "import matplotlib.pyplot as plt\n",
    "%matplotlib inline"
   ]
  },
  {
   "cell_type": "code",
   "execution_count": 13,
   "metadata": {},
   "outputs": [
    {
     "data": {
      "text/html": [
       "<div>\n",
       "<style scoped>\n",
       "    .dataframe tbody tr th:only-of-type {\n",
       "        vertical-align: middle;\n",
       "    }\n",
       "\n",
       "    .dataframe tbody tr th {\n",
       "        vertical-align: top;\n",
       "    }\n",
       "\n",
       "    .dataframe thead th {\n",
       "        text-align: right;\n",
       "    }\n",
       "</style>\n",
       "<table border=\"1\" class=\"dataframe\">\n",
       "  <thead>\n",
       "    <tr style=\"text-align: right;\">\n",
       "      <th></th>\n",
       "      <th>X</th>\n",
       "      <th>Y</th>\n",
       "      <th>OBJECTID_12_13</th>\n",
       "      <th>Plant_ID</th>\n",
       "      <th>Plant_Name</th>\n",
       "      <th>Plant_Alias</th>\n",
       "      <th>Plant_Label</th>\n",
       "      <th>EIA_ID</th>\n",
       "      <th>MW</th>\n",
       "      <th>Gross_MWh</th>\n",
       "      <th>...</th>\n",
       "      <th>CES30_Percentile</th>\n",
       "      <th>CEC_Jurisdictional_Plant</th>\n",
       "      <th>CEC_Link</th>\n",
       "      <th>Aerial</th>\n",
       "      <th>Elevation</th>\n",
       "      <th>Operation_Job</th>\n",
       "      <th>Property_Tax</th>\n",
       "      <th>Income_Percent</th>\n",
       "      <th>Capacity_Factor</th>\n",
       "      <th>Project_Location</th>\n",
       "    </tr>\n",
       "  </thead>\n",
       "  <tbody>\n",
       "    <tr>\n",
       "      <th>0</th>\n",
       "      <td>-121.921635</td>\n",
       "      <td>38.400098</td>\n",
       "      <td>1870</td>\n",
       "      <td>B0001</td>\n",
       "      <td>Vaca Dixon Battery Storage</td>\n",
       "      <td>Vaca Dixon Solar Station</td>\n",
       "      <td>Vaca Dixon Battery Storage</td>\n",
       "      <td>59256</td>\n",
       "      <td>2.4</td>\n",
       "      <td>0.0</td>\n",
       "      <td>...</td>\n",
       "      <td>61.0</td>\n",
       "      <td>0</td>\n",
       "      <td>NaN</td>\n",
       "      <td>&lt;a href=\"https://earth.google.com/web/@38.4000...</td>\n",
       "      <td>25.624909</td>\n",
       "      <td>NaN</td>\n",
       "      <td>NaN</td>\n",
       "      <td>148.0</td>\n",
       "      <td>0.026184</td>\n",
       "      <td>Neither Low Income Nor Disadvantaged Community</td>\n",
       "    </tr>\n",
       "    <tr>\n",
       "      <th>1</th>\n",
       "      <td>-117.559669</td>\n",
       "      <td>34.004651</td>\n",
       "      <td>1871</td>\n",
       "      <td>B0005</td>\n",
       "      <td>Mira Loma BESS A</td>\n",
       "      <td>NaN</td>\n",
       "      <td>Mira Loma - BESS A</td>\n",
       "      <td>60661</td>\n",
       "      <td>10.0</td>\n",
       "      <td>NaN</td>\n",
       "      <td>...</td>\n",
       "      <td>79.0</td>\n",
       "      <td>0</td>\n",
       "      <td>NaN</td>\n",
       "      <td>&lt;a href=\"https://earth.google.com/web/@37.3073...</td>\n",
       "      <td>228.718437</td>\n",
       "      <td>NaN</td>\n",
       "      <td>NaN</td>\n",
       "      <td>132.0</td>\n",
       "      <td>NaN</td>\n",
       "      <td>Disadvantaged Community</td>\n",
       "    </tr>\n",
       "    <tr>\n",
       "      <th>2</th>\n",
       "      <td>-117.558969</td>\n",
       "      <td>34.004651</td>\n",
       "      <td>1872</td>\n",
       "      <td>B0006</td>\n",
       "      <td>Mira Loma BESS B</td>\n",
       "      <td>NaN</td>\n",
       "      <td>Mira Loma - BESS B</td>\n",
       "      <td>60661</td>\n",
       "      <td>10.0</td>\n",
       "      <td>NaN</td>\n",
       "      <td>...</td>\n",
       "      <td>79.0</td>\n",
       "      <td>0</td>\n",
       "      <td>NaN</td>\n",
       "      <td>&lt;a href=\"https://earth.google.com/web/@37.3073...</td>\n",
       "      <td>229.237144</td>\n",
       "      <td>NaN</td>\n",
       "      <td>NaN</td>\n",
       "      <td>132.0</td>\n",
       "      <td>NaN</td>\n",
       "      <td>Disadvantaged Community</td>\n",
       "    </tr>\n",
       "    <tr>\n",
       "      <th>3</th>\n",
       "      <td>-117.735476</td>\n",
       "      <td>34.094284</td>\n",
       "      <td>1873</td>\n",
       "      <td>B0007</td>\n",
       "      <td>AltaGas Pomona Energy Storage</td>\n",
       "      <td>NaN</td>\n",
       "      <td>Pomona Energy Storage</td>\n",
       "      <td>50300</td>\n",
       "      <td>20.0</td>\n",
       "      <td>21479.0</td>\n",
       "      <td>...</td>\n",
       "      <td>70.0</td>\n",
       "      <td>0</td>\n",
       "      <td>NaN</td>\n",
       "      <td>&lt;a href=\"https://earth.google.com/web/@37.3073...</td>\n",
       "      <td>337.925315</td>\n",
       "      <td>NaN</td>\n",
       "      <td>NaN</td>\n",
       "      <td>84.0</td>\n",
       "      <td>0.108219</td>\n",
       "      <td>Neither Low Income Nor Disadvantaged Community</td>\n",
       "    </tr>\n",
       "    <tr>\n",
       "      <th>4</th>\n",
       "      <td>-117.115027</td>\n",
       "      <td>33.124413</td>\n",
       "      <td>1874</td>\n",
       "      <td>B0008</td>\n",
       "      <td>Escondido BESS 1</td>\n",
       "      <td>NaN</td>\n",
       "      <td>Escondido BESS 1</td>\n",
       "      <td>60570</td>\n",
       "      <td>10.0</td>\n",
       "      <td>NaN</td>\n",
       "      <td>...</td>\n",
       "      <td>37.0</td>\n",
       "      <td>0</td>\n",
       "      <td>NaN</td>\n",
       "      <td>&lt;a href=\"https://earth.google.com/web/@37.3073...</td>\n",
       "      <td>204.261751</td>\n",
       "      <td>NaN</td>\n",
       "      <td>NaN</td>\n",
       "      <td>91.0</td>\n",
       "      <td>NaN</td>\n",
       "      <td>Neither Low Income Nor Disadvantaged Community</td>\n",
       "    </tr>\n",
       "  </tbody>\n",
       "</table>\n",
       "<p>5 rows × 53 columns</p>\n",
       "</div>"
      ],
      "text/plain": [
       "            X          Y  OBJECTID_12_13 Plant_ID  \\\n",
       "0 -121.921635  38.400098            1870    B0001   \n",
       "1 -117.559669  34.004651            1871    B0005   \n",
       "2 -117.558969  34.004651            1872    B0006   \n",
       "3 -117.735476  34.094284            1873    B0007   \n",
       "4 -117.115027  33.124413            1874    B0008   \n",
       "\n",
       "                      Plant_Name               Plant_Alias  \\\n",
       "0     Vaca Dixon Battery Storage  Vaca Dixon Solar Station   \n",
       "1               Mira Loma BESS A                       NaN   \n",
       "2               Mira Loma BESS B                       NaN   \n",
       "3  AltaGas Pomona Energy Storage                       NaN   \n",
       "4               Escondido BESS 1                       NaN   \n",
       "\n",
       "                  Plant_Label EIA_ID    MW  Gross_MWh  ...  CES30_Percentile  \\\n",
       "0  Vaca Dixon Battery Storage  59256   2.4        0.0  ...              61.0   \n",
       "1          Mira Loma - BESS A  60661  10.0        NaN  ...              79.0   \n",
       "2          Mira Loma - BESS B  60661  10.0        NaN  ...              79.0   \n",
       "3       Pomona Energy Storage  50300  20.0    21479.0  ...              70.0   \n",
       "4            Escondido BESS 1  60570  10.0        NaN  ...              37.0   \n",
       "\n",
       "  CEC_Jurisdictional_Plant CEC_Link  \\\n",
       "0                        0      NaN   \n",
       "1                        0      NaN   \n",
       "2                        0      NaN   \n",
       "3                        0      NaN   \n",
       "4                        0      NaN   \n",
       "\n",
       "                                              Aerial   Elevation  \\\n",
       "0  <a href=\"https://earth.google.com/web/@38.4000...   25.624909   \n",
       "1  <a href=\"https://earth.google.com/web/@37.3073...  228.718437   \n",
       "2  <a href=\"https://earth.google.com/web/@37.3073...  229.237144   \n",
       "3  <a href=\"https://earth.google.com/web/@37.3073...  337.925315   \n",
       "4  <a href=\"https://earth.google.com/web/@37.3073...  204.261751   \n",
       "\n",
       "  Operation_Job Property_Tax Income_Percent Capacity_Factor  \\\n",
       "0           NaN          NaN          148.0        0.026184   \n",
       "1           NaN          NaN          132.0             NaN   \n",
       "2           NaN          NaN          132.0             NaN   \n",
       "3           NaN          NaN           84.0        0.108219   \n",
       "4           NaN          NaN           91.0             NaN   \n",
       "\n",
       "                                 Project_Location  \n",
       "0  Neither Low Income Nor Disadvantaged Community  \n",
       "1                         Disadvantaged Community  \n",
       "2                         Disadvantaged Community  \n",
       "3  Neither Low Income Nor Disadvantaged Community  \n",
       "4  Neither Low Income Nor Disadvantaged Community  \n",
       "\n",
       "[5 rows x 53 columns]"
      ]
     },
     "execution_count": 13,
     "metadata": {},
     "output_type": "execute_result"
    }
   ],
   "source": [
    "data=pd.read_csv(\"California_Power_Plant.csv\")\n",
    "data.head()"
   ]
  },
  {
   "cell_type": "code",
   "execution_count": 14,
   "metadata": {},
   "outputs": [
    {
     "name": "stdout",
     "output_type": "stream",
     "text": [
      "<class 'pandas.core.frame.DataFrame'>\n",
      "RangeIndex: 1869 entries, 0 to 1868\n",
      "Data columns (total 53 columns):\n",
      "X                               1867 non-null float64\n",
      "Y                               1867 non-null float64\n",
      "OBJECTID_12_13                  1869 non-null int64\n",
      "Plant_ID                        1869 non-null object\n",
      "Plant_Name                      1869 non-null object\n",
      "Plant_Alias                     1036 non-null object\n",
      "Plant_Label                     1869 non-null object\n",
      "EIA_ID                          1451 non-null object\n",
      "MW                              1861 non-null float64\n",
      "Gross_MWh                       1565 non-null float64\n",
      "Net_MWh                         1548 non-null float64\n",
      "General_Fuel                    1867 non-null object\n",
      "Status                          1865 non-null object\n",
      "STEP_License_Status             112 non-null object\n",
      "Docket_ID                       112 non-null object\n",
      "STEP_Project_Type               112 non-null object\n",
      "Street                          1459 non-null object\n",
      "City                            1867 non-null object\n",
      "State_                          1868 non-null object\n",
      "Zip_Code                        1705 non-null float64\n",
      "Plant_County                    1868 non-null object\n",
      "Initial_Start_Date              1804 non-null object\n",
      "Online_Year                     1804 non-null float64\n",
      "Retire_Date                     175 non-null object\n",
      "Peaker                          1813 non-null float64\n",
      "Renewable_Energy                1869 non-null int64\n",
      "Gen_Count                       1810 non-null float64\n",
      "RPS_Eligible                    1868 non-null float64\n",
      "Utility_ID                      1834 non-null float64\n",
      "Owner_Name                      1867 non-null object\n",
      "Wind_Resource                   196 non-null object\n",
      "LRA                             1335 non-null object\n",
      "Sub_Area                        946 non-null object\n",
      "Service_Area                    1846 non-null object\n",
      "Service_Category                1492 non-null object\n",
      "Caliso_Balancing_Authorities    1845 non-null object\n",
      "Air_District                    1846 non-null object\n",
      "Air_Basin                       1846 non-null object\n",
      "Quad                            1848 non-null object\n",
      "Senate_District                 1846 non-null object\n",
      "Assembly_District               1846 non-null object\n",
      "Congressional_District          1765 non-null object\n",
      "CES30_PercentileRange           1742 non-null object\n",
      "CES30_Percentile                1742 non-null float64\n",
      "CEC_Jurisdictional_Plant        1869 non-null int64\n",
      "CEC_Link                        109 non-null object\n",
      "Aerial                          1727 non-null object\n",
      "Elevation                       1850 non-null float64\n",
      "Operation_Job                   97 non-null float64\n",
      "Property_Tax                    96 non-null float64\n",
      "Income_Percent                  1655 non-null float64\n",
      "Capacity_Factor                 1548 non-null float64\n",
      "Project_Location                1589 non-null object\n",
      "dtypes: float64(17), int64(3), object(33)\n",
      "memory usage: 774.0+ KB\n"
     ]
    }
   ],
   "source": [
    "data.info()"
   ]
  },
  {
   "cell_type": "code",
   "execution_count": 15,
   "metadata": {},
   "outputs": [
    {
     "data": {
      "text/html": [
       "<div>\n",
       "<style scoped>\n",
       "    .dataframe tbody tr th:only-of-type {\n",
       "        vertical-align: middle;\n",
       "    }\n",
       "\n",
       "    .dataframe tbody tr th {\n",
       "        vertical-align: top;\n",
       "    }\n",
       "\n",
       "    .dataframe thead th {\n",
       "        text-align: right;\n",
       "    }\n",
       "</style>\n",
       "<table border=\"1\" class=\"dataframe\">\n",
       "  <thead>\n",
       "    <tr style=\"text-align: right;\">\n",
       "      <th></th>\n",
       "      <th>X</th>\n",
       "      <th>Y</th>\n",
       "      <th>OBJECTID_12_13</th>\n",
       "      <th>MW</th>\n",
       "      <th>Gross_MWh</th>\n",
       "      <th>Net_MWh</th>\n",
       "      <th>Zip_Code</th>\n",
       "      <th>Online_Year</th>\n",
       "      <th>Peaker</th>\n",
       "      <th>Renewable_Energy</th>\n",
       "      <th>Gen_Count</th>\n",
       "      <th>RPS_Eligible</th>\n",
       "      <th>Utility_ID</th>\n",
       "      <th>CES30_Percentile</th>\n",
       "      <th>CEC_Jurisdictional_Plant</th>\n",
       "      <th>Elevation</th>\n",
       "      <th>Operation_Job</th>\n",
       "      <th>Property_Tax</th>\n",
       "      <th>Income_Percent</th>\n",
       "      <th>Capacity_Factor</th>\n",
       "    </tr>\n",
       "  </thead>\n",
       "  <tbody>\n",
       "    <tr>\n",
       "      <th>count</th>\n",
       "      <td>1867.000000</td>\n",
       "      <td>1867.000000</td>\n",
       "      <td>1869.000000</td>\n",
       "      <td>1861.000000</td>\n",
       "      <td>1.565000e+03</td>\n",
       "      <td>1.548000e+03</td>\n",
       "      <td>1705.000000</td>\n",
       "      <td>1804.000000</td>\n",
       "      <td>1813.000000</td>\n",
       "      <td>1869.000000</td>\n",
       "      <td>1810.000000</td>\n",
       "      <td>1868.000000</td>\n",
       "      <td>1834.000000</td>\n",
       "      <td>1742.000000</td>\n",
       "      <td>1869.000000</td>\n",
       "      <td>1850.000000</td>\n",
       "      <td>97.000000</td>\n",
       "      <td>9.600000e+01</td>\n",
       "      <td>1655.000000</td>\n",
       "      <td>1548.000000</td>\n",
       "    </tr>\n",
       "    <tr>\n",
       "      <th>mean</th>\n",
       "      <td>-119.340196</td>\n",
       "      <td>36.055487</td>\n",
       "      <td>2804.000000</td>\n",
       "      <td>53.342080</td>\n",
       "      <td>1.553444e+05</td>\n",
       "      <td>1.516829e+05</td>\n",
       "      <td>93327.909091</td>\n",
       "      <td>1996.406874</td>\n",
       "      <td>0.047435</td>\n",
       "      <td>0.747459</td>\n",
       "      <td>1.565193</td>\n",
       "      <td>0.733405</td>\n",
       "      <td>36160.496183</td>\n",
       "      <td>54.454650</td>\n",
       "      <td>0.059925</td>\n",
       "      <td>354.264552</td>\n",
       "      <td>14.443299</td>\n",
       "      <td>2.137566e+06</td>\n",
       "      <td>98.374018</td>\n",
       "      <td>0.274762</td>\n",
       "    </tr>\n",
       "    <tr>\n",
       "      <th>std</th>\n",
       "      <td>2.132029</td>\n",
       "      <td>2.200451</td>\n",
       "      <td>539.678145</td>\n",
       "      <td>171.319776</td>\n",
       "      <td>7.152981e+05</td>\n",
       "      <td>7.081998e+05</td>\n",
       "      <td>4382.341860</td>\n",
       "      <td>23.989568</td>\n",
       "      <td>0.212627</td>\n",
       "      <td>0.434586</td>\n",
       "      <td>1.430306</td>\n",
       "      <td>0.442297</td>\n",
       "      <td>140341.125621</td>\n",
       "      <td>25.608795</td>\n",
       "      <td>0.237412</td>\n",
       "      <td>425.146056</td>\n",
       "      <td>15.545611</td>\n",
       "      <td>8.210980e+06</td>\n",
       "      <td>46.746438</td>\n",
       "      <td>0.204685</td>\n",
       "    </tr>\n",
       "    <tr>\n",
       "      <th>min</th>\n",
       "      <td>-124.208602</td>\n",
       "      <td>32.549464</td>\n",
       "      <td>1870.000000</td>\n",
       "      <td>0.000000</td>\n",
       "      <td>-3.650000e+02</td>\n",
       "      <td>0.000000e+00</td>\n",
       "      <td>0.000000</td>\n",
       "      <td>1900.000000</td>\n",
       "      <td>0.000000</td>\n",
       "      <td>0.000000</td>\n",
       "      <td>1.000000</td>\n",
       "      <td>0.000000</td>\n",
       "      <td>590.000000</td>\n",
       "      <td>2.000000</td>\n",
       "      <td>0.000000</td>\n",
       "      <td>-70.894064</td>\n",
       "      <td>0.000000</td>\n",
       "      <td>0.000000e+00</td>\n",
       "      <td>17.000000</td>\n",
       "      <td>0.000000</td>\n",
       "    </tr>\n",
       "    <tr>\n",
       "      <th>25%</th>\n",
       "      <td>-121.334775</td>\n",
       "      <td>34.106641</td>\n",
       "      <td>2337.000000</td>\n",
       "      <td>1.500000</td>\n",
       "      <td>2.277000e+03</td>\n",
       "      <td>2.335750e+03</td>\n",
       "      <td>92262.000000</td>\n",
       "      <td>1986.000000</td>\n",
       "      <td>0.000000</td>\n",
       "      <td>0.000000</td>\n",
       "      <td>1.000000</td>\n",
       "      <td>0.000000</td>\n",
       "      <td>14328.000000</td>\n",
       "      <td>33.000000</td>\n",
       "      <td>0.000000</td>\n",
       "      <td>48.139326</td>\n",
       "      <td>4.000000</td>\n",
       "      <td>0.000000e+00</td>\n",
       "      <td>66.000000</td>\n",
       "      <td>0.170697</td>\n",
       "    </tr>\n",
       "    <tr>\n",
       "      <th>50%</th>\n",
       "      <td>-119.116422</td>\n",
       "      <td>35.547148</td>\n",
       "      <td>2804.000000</td>\n",
       "      <td>6.800000</td>\n",
       "      <td>1.087100e+04</td>\n",
       "      <td>1.112450e+04</td>\n",
       "      <td>93516.000000</td>\n",
       "      <td>2009.000000</td>\n",
       "      <td>0.000000</td>\n",
       "      <td>1.000000</td>\n",
       "      <td>1.000000</td>\n",
       "      <td>1.000000</td>\n",
       "      <td>14328.000000</td>\n",
       "      <td>56.000000</td>\n",
       "      <td>0.000000</td>\n",
       "      <td>168.850171</td>\n",
       "      <td>10.000000</td>\n",
       "      <td>5.698700e+04</td>\n",
       "      <td>90.000000</td>\n",
       "      <td>0.215678</td>\n",
       "    </tr>\n",
       "    <tr>\n",
       "      <th>75%</th>\n",
       "      <td>-117.812250</td>\n",
       "      <td>37.829574</td>\n",
       "      <td>3271.000000</td>\n",
       "      <td>33.000000</td>\n",
       "      <td>6.621200e+04</td>\n",
       "      <td>6.457950e+04</td>\n",
       "      <td>95051.000000</td>\n",
       "      <td>2013.000000</td>\n",
       "      <td>0.000000</td>\n",
       "      <td>1.000000</td>\n",
       "      <td>1.000000</td>\n",
       "      <td>1.000000</td>\n",
       "      <td>17609.000000</td>\n",
       "      <td>77.000000</td>\n",
       "      <td>0.000000</td>\n",
       "      <td>592.432614</td>\n",
       "      <td>21.000000</td>\n",
       "      <td>1.163819e+06</td>\n",
       "      <td>116.000000</td>\n",
       "      <td>0.323959</td>\n",
       "    </tr>\n",
       "    <tr>\n",
       "      <th>max</th>\n",
       "      <td>-105.461670</td>\n",
       "      <td>41.985593</td>\n",
       "      <td>3738.000000</td>\n",
       "      <td>2323.000000</td>\n",
       "      <td>1.829205e+07</td>\n",
       "      <td>1.826780e+07</td>\n",
       "      <td>96148.000000</td>\n",
       "      <td>2019.000000</td>\n",
       "      <td>1.000000</td>\n",
       "      <td>1.000000</td>\n",
       "      <td>16.000000</td>\n",
       "      <td>1.000000</td>\n",
       "      <td>999999.000000</td>\n",
       "      <td>100.000000</td>\n",
       "      <td>1.000000</td>\n",
       "      <td>2387.291042</td>\n",
       "      <td>90.000000</td>\n",
       "      <td>7.419641e+07</td>\n",
       "      <td>404.000000</td>\n",
       "      <td>1.539276</td>\n",
       "    </tr>\n",
       "  </tbody>\n",
       "</table>\n",
       "</div>"
      ],
      "text/plain": [
       "                 X            Y  OBJECTID_12_13           MW     Gross_MWh  \\\n",
       "count  1867.000000  1867.000000     1869.000000  1861.000000  1.565000e+03   \n",
       "mean   -119.340196    36.055487     2804.000000    53.342080  1.553444e+05   \n",
       "std       2.132029     2.200451      539.678145   171.319776  7.152981e+05   \n",
       "min    -124.208602    32.549464     1870.000000     0.000000 -3.650000e+02   \n",
       "25%    -121.334775    34.106641     2337.000000     1.500000  2.277000e+03   \n",
       "50%    -119.116422    35.547148     2804.000000     6.800000  1.087100e+04   \n",
       "75%    -117.812250    37.829574     3271.000000    33.000000  6.621200e+04   \n",
       "max    -105.461670    41.985593     3738.000000  2323.000000  1.829205e+07   \n",
       "\n",
       "            Net_MWh      Zip_Code  Online_Year       Peaker  Renewable_Energy  \\\n",
       "count  1.548000e+03   1705.000000  1804.000000  1813.000000       1869.000000   \n",
       "mean   1.516829e+05  93327.909091  1996.406874     0.047435          0.747459   \n",
       "std    7.081998e+05   4382.341860    23.989568     0.212627          0.434586   \n",
       "min    0.000000e+00      0.000000  1900.000000     0.000000          0.000000   \n",
       "25%    2.335750e+03  92262.000000  1986.000000     0.000000          0.000000   \n",
       "50%    1.112450e+04  93516.000000  2009.000000     0.000000          1.000000   \n",
       "75%    6.457950e+04  95051.000000  2013.000000     0.000000          1.000000   \n",
       "max    1.826780e+07  96148.000000  2019.000000     1.000000          1.000000   \n",
       "\n",
       "         Gen_Count  RPS_Eligible     Utility_ID  CES30_Percentile  \\\n",
       "count  1810.000000   1868.000000    1834.000000       1742.000000   \n",
       "mean      1.565193      0.733405   36160.496183         54.454650   \n",
       "std       1.430306      0.442297  140341.125621         25.608795   \n",
       "min       1.000000      0.000000     590.000000          2.000000   \n",
       "25%       1.000000      0.000000   14328.000000         33.000000   \n",
       "50%       1.000000      1.000000   14328.000000         56.000000   \n",
       "75%       1.000000      1.000000   17609.000000         77.000000   \n",
       "max      16.000000      1.000000  999999.000000        100.000000   \n",
       "\n",
       "       CEC_Jurisdictional_Plant    Elevation  Operation_Job  Property_Tax  \\\n",
       "count               1869.000000  1850.000000      97.000000  9.600000e+01   \n",
       "mean                   0.059925   354.264552      14.443299  2.137566e+06   \n",
       "std                    0.237412   425.146056      15.545611  8.210980e+06   \n",
       "min                    0.000000   -70.894064       0.000000  0.000000e+00   \n",
       "25%                    0.000000    48.139326       4.000000  0.000000e+00   \n",
       "50%                    0.000000   168.850171      10.000000  5.698700e+04   \n",
       "75%                    0.000000   592.432614      21.000000  1.163819e+06   \n",
       "max                    1.000000  2387.291042      90.000000  7.419641e+07   \n",
       "\n",
       "       Income_Percent  Capacity_Factor  \n",
       "count     1655.000000      1548.000000  \n",
       "mean        98.374018         0.274762  \n",
       "std         46.746438         0.204685  \n",
       "min         17.000000         0.000000  \n",
       "25%         66.000000         0.170697  \n",
       "50%         90.000000         0.215678  \n",
       "75%        116.000000         0.323959  \n",
       "max        404.000000         1.539276  "
      ]
     },
     "execution_count": 15,
     "metadata": {},
     "output_type": "execute_result"
    }
   ],
   "source": [
    "data.describe()"
   ]
  },
  {
   "cell_type": "code",
   "execution_count": 18,
   "metadata": {},
   "outputs": [],
   "source": [
    "data=data.dropna(axis=0,subset=['Project_Location'])"
   ]
  },
  {
   "cell_type": "code",
   "execution_count": 19,
   "metadata": {},
   "outputs": [
    {
     "data": {
      "text/plain": [
       "(1589, 53)"
      ]
     },
     "execution_count": 19,
     "metadata": {},
     "output_type": "execute_result"
    }
   ],
   "source": [
    "data.shape"
   ]
  },
  {
   "cell_type": "code",
   "execution_count": 20,
   "metadata": {},
   "outputs": [],
   "source": [
    "#data.columns\n",
    "new=data.drop(['X', 'Y', 'OBJECTID_12_13', 'Plant_ID', 'Plant_Name', 'Plant_Alias',\n",
    "       'Plant_Label', 'EIA_ID','STEP_License_Status', 'Docket_ID', 'STEP_Project_Type',\n",
    "       'Street', 'City', 'State_', 'Zip_Code', 'Plant_County',\n",
    "       'Initial_Start_Date', 'Online_Year', 'Retire_Date','Renewable_Energy', 'Utility_ID',\n",
    "       'Owner_Name'\n",
    "               , 'Wind_Resource', 'Service_Area',\n",
    "       'Service_Category', 'Caliso_Balancing_Authorities', 'Air_District',\n",
    "       'Assembly_District',\n",
    "       'CEC_Link', 'Aerial',\n",
    "       'Operation_Job',\n",
    "       'Project_Location'],axis=1)"
   ]
  },
  {
   "cell_type": "code",
   "execution_count": 21,
   "metadata": {},
   "outputs": [
    {
     "data": {
      "text/html": [
       "<div>\n",
       "<style scoped>\n",
       "    .dataframe tbody tr th:only-of-type {\n",
       "        vertical-align: middle;\n",
       "    }\n",
       "\n",
       "    .dataframe tbody tr th {\n",
       "        vertical-align: top;\n",
       "    }\n",
       "\n",
       "    .dataframe thead th {\n",
       "        text-align: right;\n",
       "    }\n",
       "</style>\n",
       "<table border=\"1\" class=\"dataframe\">\n",
       "  <thead>\n",
       "    <tr style=\"text-align: right;\">\n",
       "      <th></th>\n",
       "      <th>MW</th>\n",
       "      <th>Gross_MWh</th>\n",
       "      <th>Net_MWh</th>\n",
       "      <th>General_Fuel</th>\n",
       "      <th>Status</th>\n",
       "      <th>Peaker</th>\n",
       "      <th>Gen_Count</th>\n",
       "      <th>RPS_Eligible</th>\n",
       "      <th>LRA</th>\n",
       "      <th>Sub_Area</th>\n",
       "      <th>...</th>\n",
       "      <th>Quad</th>\n",
       "      <th>Senate_District</th>\n",
       "      <th>Congressional_District</th>\n",
       "      <th>CES30_PercentileRange</th>\n",
       "      <th>CES30_Percentile</th>\n",
       "      <th>CEC_Jurisdictional_Plant</th>\n",
       "      <th>Elevation</th>\n",
       "      <th>Property_Tax</th>\n",
       "      <th>Income_Percent</th>\n",
       "      <th>Capacity_Factor</th>\n",
       "    </tr>\n",
       "  </thead>\n",
       "  <tbody>\n",
       "    <tr>\n",
       "      <th>0</th>\n",
       "      <td>2.4</td>\n",
       "      <td>0.0</td>\n",
       "      <td>552.0</td>\n",
       "      <td>Battery</td>\n",
       "      <td>Operating</td>\n",
       "      <td>0.0</td>\n",
       "      <td>1.0</td>\n",
       "      <td>0.0</td>\n",
       "      <td>NaN</td>\n",
       "      <td>NaN</td>\n",
       "      <td>...</td>\n",
       "      <td>Allendale</td>\n",
       "      <td>Senate District 3</td>\n",
       "      <td>Congressional District 3</td>\n",
       "      <td>60-65%</td>\n",
       "      <td>61.0</td>\n",
       "      <td>0</td>\n",
       "      <td>25.624909</td>\n",
       "      <td>NaN</td>\n",
       "      <td>148.0</td>\n",
       "      <td>0.026184</td>\n",
       "    </tr>\n",
       "    <tr>\n",
       "      <th>1</th>\n",
       "      <td>10.0</td>\n",
       "      <td>NaN</td>\n",
       "      <td>NaN</td>\n",
       "      <td>Battery</td>\n",
       "      <td>Operating</td>\n",
       "      <td>0.0</td>\n",
       "      <td>1.0</td>\n",
       "      <td>0.0</td>\n",
       "      <td>LA Basin</td>\n",
       "      <td>NaN</td>\n",
       "      <td>...</td>\n",
       "      <td>Guasti</td>\n",
       "      <td>Senate District 20</td>\n",
       "      <td>Congressional District 35</td>\n",
       "      <td>75-80%</td>\n",
       "      <td>79.0</td>\n",
       "      <td>0</td>\n",
       "      <td>228.718437</td>\n",
       "      <td>NaN</td>\n",
       "      <td>132.0</td>\n",
       "      <td>NaN</td>\n",
       "    </tr>\n",
       "    <tr>\n",
       "      <th>2</th>\n",
       "      <td>10.0</td>\n",
       "      <td>NaN</td>\n",
       "      <td>NaN</td>\n",
       "      <td>Battery</td>\n",
       "      <td>Operating</td>\n",
       "      <td>0.0</td>\n",
       "      <td>1.0</td>\n",
       "      <td>0.0</td>\n",
       "      <td>LA Basin</td>\n",
       "      <td>NaN</td>\n",
       "      <td>...</td>\n",
       "      <td>Guasti</td>\n",
       "      <td>Senate District 20</td>\n",
       "      <td>Congressional District 35</td>\n",
       "      <td>75-80%</td>\n",
       "      <td>79.0</td>\n",
       "      <td>0</td>\n",
       "      <td>229.237144</td>\n",
       "      <td>NaN</td>\n",
       "      <td>132.0</td>\n",
       "      <td>NaN</td>\n",
       "    </tr>\n",
       "    <tr>\n",
       "      <th>3</th>\n",
       "      <td>20.0</td>\n",
       "      <td>21479.0</td>\n",
       "      <td>19012.0</td>\n",
       "      <td>Battery</td>\n",
       "      <td>Operating</td>\n",
       "      <td>0.0</td>\n",
       "      <td>1.0</td>\n",
       "      <td>0.0</td>\n",
       "      <td>LA Basin</td>\n",
       "      <td>Western LA Basin</td>\n",
       "      <td>...</td>\n",
       "      <td>Ontario</td>\n",
       "      <td>Senate District 20</td>\n",
       "      <td>Congressional District 35</td>\n",
       "      <td>70-75%</td>\n",
       "      <td>70.0</td>\n",
       "      <td>0</td>\n",
       "      <td>337.925315</td>\n",
       "      <td>NaN</td>\n",
       "      <td>84.0</td>\n",
       "      <td>0.108219</td>\n",
       "    </tr>\n",
       "    <tr>\n",
       "      <th>4</th>\n",
       "      <td>10.0</td>\n",
       "      <td>NaN</td>\n",
       "      <td>NaN</td>\n",
       "      <td>Battery</td>\n",
       "      <td>Operating</td>\n",
       "      <td>0.0</td>\n",
       "      <td>1.0</td>\n",
       "      <td>0.0</td>\n",
       "      <td>San Diego/ IV Area</td>\n",
       "      <td>San Diego</td>\n",
       "      <td>...</td>\n",
       "      <td>Escondido</td>\n",
       "      <td>Senate District 38</td>\n",
       "      <td>Congressional District 50</td>\n",
       "      <td>35-40%</td>\n",
       "      <td>37.0</td>\n",
       "      <td>0</td>\n",
       "      <td>204.261751</td>\n",
       "      <td>NaN</td>\n",
       "      <td>91.0</td>\n",
       "      <td>NaN</td>\n",
       "    </tr>\n",
       "  </tbody>\n",
       "</table>\n",
       "<p>5 rows × 21 columns</p>\n",
       "</div>"
      ],
      "text/plain": [
       "     MW  Gross_MWh  Net_MWh General_Fuel     Status  Peaker  Gen_Count  \\\n",
       "0   2.4        0.0    552.0      Battery  Operating     0.0        1.0   \n",
       "1  10.0        NaN      NaN      Battery  Operating     0.0        1.0   \n",
       "2  10.0        NaN      NaN      Battery  Operating     0.0        1.0   \n",
       "3  20.0    21479.0  19012.0      Battery  Operating     0.0        1.0   \n",
       "4  10.0        NaN      NaN      Battery  Operating     0.0        1.0   \n",
       "\n",
       "   RPS_Eligible                 LRA          Sub_Area  ...       Quad  \\\n",
       "0           0.0                 NaN               NaN  ...  Allendale   \n",
       "1           0.0            LA Basin               NaN  ...     Guasti   \n",
       "2           0.0            LA Basin               NaN  ...     Guasti   \n",
       "3           0.0            LA Basin  Western LA Basin  ...    Ontario   \n",
       "4           0.0  San Diego/ IV Area         San Diego  ...  Escondido   \n",
       "\n",
       "      Senate_District     Congressional_District CES30_PercentileRange  \\\n",
       "0   Senate District 3   Congressional District 3                60-65%   \n",
       "1  Senate District 20  Congressional District 35                75-80%   \n",
       "2  Senate District 20  Congressional District 35                75-80%   \n",
       "3  Senate District 20  Congressional District 35                70-75%   \n",
       "4  Senate District 38  Congressional District 50                35-40%   \n",
       "\n",
       "  CES30_Percentile  CEC_Jurisdictional_Plant   Elevation  Property_Tax  \\\n",
       "0             61.0                         0   25.624909           NaN   \n",
       "1             79.0                         0  228.718437           NaN   \n",
       "2             79.0                         0  229.237144           NaN   \n",
       "3             70.0                         0  337.925315           NaN   \n",
       "4             37.0                         0  204.261751           NaN   \n",
       "\n",
       "   Income_Percent  Capacity_Factor  \n",
       "0           148.0         0.026184  \n",
       "1           132.0              NaN  \n",
       "2           132.0              NaN  \n",
       "3            84.0         0.108219  \n",
       "4            91.0              NaN  \n",
       "\n",
       "[5 rows x 21 columns]"
      ]
     },
     "execution_count": 21,
     "metadata": {},
     "output_type": "execute_result"
    }
   ],
   "source": [
    "new.head()"
   ]
  },
  {
   "cell_type": "code",
   "execution_count": 22,
   "metadata": {},
   "outputs": [
    {
     "data": {
      "text/plain": [
       "(1589, 21)"
      ]
     },
     "execution_count": 22,
     "metadata": {},
     "output_type": "execute_result"
    }
   ],
   "source": [
    "new.shape"
   ]
  },
  {
   "cell_type": "code",
   "execution_count": 23,
   "metadata": {},
   "outputs": [
    {
     "name": "stdout",
     "output_type": "stream",
     "text": [
      "<class 'pandas.core.frame.DataFrame'>\n",
      "Int64Index: 1589 entries, 0 to 1867\n",
      "Data columns (total 21 columns):\n",
      "MW                          1589 non-null float64\n",
      "Gross_MWh                   1339 non-null float64\n",
      "Net_MWh                     1324 non-null float64\n",
      "General_Fuel                1589 non-null object\n",
      "Status                      1589 non-null object\n",
      "Peaker                      1548 non-null float64\n",
      "Gen_Count                   1548 non-null float64\n",
      "RPS_Eligible                1589 non-null float64\n",
      "LRA                         1140 non-null object\n",
      "Sub_Area                    822 non-null object\n",
      "Air_Basin                   1589 non-null object\n",
      "Quad                        1589 non-null object\n",
      "Senate_District             1589 non-null object\n",
      "Congressional_District      1589 non-null object\n",
      "CES30_PercentileRange       1589 non-null object\n",
      "CES30_Percentile            1589 non-null float64\n",
      "CEC_Jurisdictional_Plant    1589 non-null int64\n",
      "Elevation                   1589 non-null float64\n",
      "Property_Tax                88 non-null float64\n",
      "Income_Percent              1589 non-null float64\n",
      "Capacity_Factor             1324 non-null float64\n",
      "dtypes: float64(11), int64(1), object(9)\n",
      "memory usage: 273.1+ KB\n"
     ]
    }
   ],
   "source": [
    "new.info()"
   ]
  },
  {
   "cell_type": "code",
   "execution_count": 24,
   "metadata": {},
   "outputs": [
    {
     "data": {
      "text/plain": [
       "MW                             0\n",
       "Gross_MWh                    250\n",
       "Net_MWh                      265\n",
       "General_Fuel                   0\n",
       "Status                         0\n",
       "Peaker                        41\n",
       "Gen_Count                     41\n",
       "RPS_Eligible                   0\n",
       "LRA                          449\n",
       "Sub_Area                     767\n",
       "Air_Basin                      0\n",
       "Quad                           0\n",
       "Senate_District                0\n",
       "Congressional_District         0\n",
       "CES30_PercentileRange          0\n",
       "CES30_Percentile               0\n",
       "CEC_Jurisdictional_Plant       0\n",
       "Elevation                      0\n",
       "Property_Tax                1501\n",
       "Income_Percent                 0\n",
       "Capacity_Factor              265\n",
       "dtype: int64"
      ]
     },
     "execution_count": 24,
     "metadata": {},
     "output_type": "execute_result"
    }
   ],
   "source": [
    "new.isnull().sum()"
   ]
  },
  {
   "cell_type": "code",
   "execution_count": 25,
   "metadata": {},
   "outputs": [],
   "source": [
    "cat_col=new.select_dtypes(include=\"object\").columns"
   ]
  },
  {
   "cell_type": "code",
   "execution_count": 26,
   "metadata": {},
   "outputs": [],
   "source": [
    "num_col=new.select_dtypes(exclude=\"object\").columns"
   ]
  },
  {
   "cell_type": "code",
   "execution_count": 27,
   "metadata": {},
   "outputs": [],
   "source": [
    "for i in cat_col:\n",
    "    new[i].fillna(new[i].mode()[0],inplace=True)"
   ]
  },
  {
   "cell_type": "code",
   "execution_count": 28,
   "metadata": {},
   "outputs": [],
   "source": [
    "for i in num_col:\n",
    "    new[i].fillna(new[i].mean(),inplace=True)"
   ]
  },
  {
   "cell_type": "code",
   "execution_count": 29,
   "metadata": {},
   "outputs": [
    {
     "data": {
      "text/plain": [
       "MW                          0\n",
       "Gross_MWh                   0\n",
       "Net_MWh                     0\n",
       "General_Fuel                0\n",
       "Status                      0\n",
       "Peaker                      0\n",
       "Gen_Count                   0\n",
       "RPS_Eligible                0\n",
       "LRA                         0\n",
       "Sub_Area                    0\n",
       "Air_Basin                   0\n",
       "Quad                        0\n",
       "Senate_District             0\n",
       "Congressional_District      0\n",
       "CES30_PercentileRange       0\n",
       "CES30_Percentile            0\n",
       "CEC_Jurisdictional_Plant    0\n",
       "Elevation                   0\n",
       "Property_Tax                0\n",
       "Income_Percent              0\n",
       "Capacity_Factor             0\n",
       "dtype: int64"
      ]
     },
     "execution_count": 29,
     "metadata": {},
     "output_type": "execute_result"
    }
   ],
   "source": [
    "new.isnull().sum()"
   ]
  },
  {
   "cell_type": "code",
   "execution_count": 30,
   "metadata": {},
   "outputs": [
    {
     "data": {
      "text/plain": [
       "(1589, 21)"
      ]
     },
     "execution_count": 30,
     "metadata": {},
     "output_type": "execute_result"
    }
   ],
   "source": [
    "new.shape"
   ]
  },
  {
   "cell_type": "code",
   "execution_count": 31,
   "metadata": {},
   "outputs": [],
   "source": [
    "new=pd.get_dummies(new)"
   ]
  },
  {
   "cell_type": "code",
   "execution_count": 32,
   "metadata": {},
   "outputs": [
    {
     "data": {
      "text/plain": [
       "(1589, 798)"
      ]
     },
     "execution_count": 32,
     "metadata": {},
     "output_type": "execute_result"
    }
   ],
   "source": [
    "new.shape"
   ]
  },
  {
   "cell_type": "code",
   "execution_count": 33,
   "metadata": {},
   "outputs": [
    {
     "name": "stderr",
     "output_type": "stream",
     "text": [
      "C:\\Users\\maganti\\Anaconda3\\lib\\site-packages\\sklearn\\preprocessing\\data.py:645: DataConversionWarning: Data with input dtype uint8, int64, float64 were all converted to float64 by StandardScaler.\n",
      "  return self.partial_fit(X, y)\n",
      "C:\\Users\\maganti\\Anaconda3\\lib\\site-packages\\sklearn\\base.py:464: DataConversionWarning: Data with input dtype uint8, int64, float64 were all converted to float64 by StandardScaler.\n",
      "  return self.fit(X, **fit_params).transform(X)\n"
     ]
    }
   ],
   "source": [
    "from sklearn.preprocessing import StandardScaler\n",
    "\n",
    "sc=StandardScaler()\n",
    "\n",
    "new=pd.DataFrame(sc.fit_transform(new),columns=new.columns)"
   ]
  },
  {
   "cell_type": "code",
   "execution_count": 34,
   "metadata": {},
   "outputs": [
    {
     "data": {
      "text/plain": [
       "(1589, 798)"
      ]
     },
     "execution_count": 34,
     "metadata": {},
     "output_type": "execute_result"
    }
   ],
   "source": [
    "new.shape"
   ]
  },
  {
   "cell_type": "code",
   "execution_count": 35,
   "metadata": {},
   "outputs": [
    {
     "data": {
      "text/html": [
       "<div>\n",
       "<style scoped>\n",
       "    .dataframe tbody tr th:only-of-type {\n",
       "        vertical-align: middle;\n",
       "    }\n",
       "\n",
       "    .dataframe tbody tr th {\n",
       "        vertical-align: top;\n",
       "    }\n",
       "\n",
       "    .dataframe thead th {\n",
       "        text-align: right;\n",
       "    }\n",
       "</style>\n",
       "<table border=\"1\" class=\"dataframe\">\n",
       "  <thead>\n",
       "    <tr style=\"text-align: right;\">\n",
       "      <th></th>\n",
       "      <th>MW</th>\n",
       "      <th>Gross_MWh</th>\n",
       "      <th>Net_MWh</th>\n",
       "      <th>Peaker</th>\n",
       "      <th>Gen_Count</th>\n",
       "      <th>RPS_Eligible</th>\n",
       "      <th>CES30_Percentile</th>\n",
       "      <th>CEC_Jurisdictional_Plant</th>\n",
       "      <th>Elevation</th>\n",
       "      <th>Property_Tax</th>\n",
       "      <th>...</th>\n",
       "      <th>CES30_PercentileRange_50-55%</th>\n",
       "      <th>CES30_PercentileRange_55-60%</th>\n",
       "      <th>CES30_PercentileRange_60-65%</th>\n",
       "      <th>CES30_PercentileRange_65-70%</th>\n",
       "      <th>CES30_PercentileRange_70-75%</th>\n",
       "      <th>CES30_PercentileRange_75-80%</th>\n",
       "      <th>CES30_PercentileRange_80-85%</th>\n",
       "      <th>CES30_PercentileRange_85-90%</th>\n",
       "      <th>CES30_PercentileRange_90-95%</th>\n",
       "      <th>CES30_PercentileRange_95-100% (highest scores)</th>\n",
       "    </tr>\n",
       "  </thead>\n",
       "  <tbody>\n",
       "    <tr>\n",
       "      <th>0</th>\n",
       "      <td>-0.319846</td>\n",
       "      <td>-2.389286e-01</td>\n",
       "      <td>-0.234110</td>\n",
       "      <td>-0.234952</td>\n",
       "      <td>-0.411144</td>\n",
       "      <td>-1.631346</td>\n",
       "      <td>0.252193</td>\n",
       "      <td>-0.259151</td>\n",
       "      <td>-0.770095</td>\n",
       "      <td>0.0</td>\n",
       "      <td>...</td>\n",
       "      <td>-0.214669</td>\n",
       "      <td>-0.263275</td>\n",
       "      <td>4.033824</td>\n",
       "      <td>-0.178377</td>\n",
       "      <td>-0.309616</td>\n",
       "      <td>-0.318085</td>\n",
       "      <td>-0.240671</td>\n",
       "      <td>-0.245031</td>\n",
       "      <td>-0.174585</td>\n",
       "      <td>-0.21306</td>\n",
       "    </tr>\n",
       "    <tr>\n",
       "      <th>1</th>\n",
       "      <td>-0.263243</td>\n",
       "      <td>2.064922e-16</td>\n",
       "      <td>0.000000</td>\n",
       "      <td>-0.234952</td>\n",
       "      <td>-0.411144</td>\n",
       "      <td>-1.631346</td>\n",
       "      <td>0.954348</td>\n",
       "      <td>-0.259151</td>\n",
       "      <td>-0.298294</td>\n",
       "      <td>0.0</td>\n",
       "      <td>...</td>\n",
       "      <td>-0.214669</td>\n",
       "      <td>-0.263275</td>\n",
       "      <td>-0.247904</td>\n",
       "      <td>-0.178377</td>\n",
       "      <td>-0.309616</td>\n",
       "      <td>3.143813</td>\n",
       "      <td>-0.240671</td>\n",
       "      <td>-0.245031</td>\n",
       "      <td>-0.174585</td>\n",
       "      <td>-0.21306</td>\n",
       "    </tr>\n",
       "    <tr>\n",
       "      <th>2</th>\n",
       "      <td>-0.263243</td>\n",
       "      <td>2.064922e-16</td>\n",
       "      <td>0.000000</td>\n",
       "      <td>-0.234952</td>\n",
       "      <td>-0.411144</td>\n",
       "      <td>-1.631346</td>\n",
       "      <td>0.954348</td>\n",
       "      <td>-0.259151</td>\n",
       "      <td>-0.297089</td>\n",
       "      <td>0.0</td>\n",
       "      <td>...</td>\n",
       "      <td>-0.214669</td>\n",
       "      <td>-0.263275</td>\n",
       "      <td>-0.247904</td>\n",
       "      <td>-0.178377</td>\n",
       "      <td>-0.309616</td>\n",
       "      <td>3.143813</td>\n",
       "      <td>-0.240671</td>\n",
       "      <td>-0.245031</td>\n",
       "      <td>-0.174585</td>\n",
       "      <td>-0.21306</td>\n",
       "    </tr>\n",
       "    <tr>\n",
       "      <th>3</th>\n",
       "      <td>-0.188765</td>\n",
       "      <td>-2.008302e-01</td>\n",
       "      <td>-0.201028</td>\n",
       "      <td>-0.234952</td>\n",
       "      <td>-0.411144</td>\n",
       "      <td>-1.631346</td>\n",
       "      <td>0.603271</td>\n",
       "      <td>-0.259151</td>\n",
       "      <td>-0.044598</td>\n",
       "      <td>0.0</td>\n",
       "      <td>...</td>\n",
       "      <td>-0.214669</td>\n",
       "      <td>-0.263275</td>\n",
       "      <td>-0.247904</td>\n",
       "      <td>-0.178377</td>\n",
       "      <td>3.229807</td>\n",
       "      <td>-0.318085</td>\n",
       "      <td>-0.240671</td>\n",
       "      <td>-0.245031</td>\n",
       "      <td>-0.174585</td>\n",
       "      <td>-0.21306</td>\n",
       "    </tr>\n",
       "    <tr>\n",
       "      <th>4</th>\n",
       "      <td>-0.263243</td>\n",
       "      <td>2.064922e-16</td>\n",
       "      <td>0.000000</td>\n",
       "      <td>-0.234952</td>\n",
       "      <td>-0.411144</td>\n",
       "      <td>-1.631346</td>\n",
       "      <td>-0.684013</td>\n",
       "      <td>-0.259151</td>\n",
       "      <td>-0.355109</td>\n",
       "      <td>0.0</td>\n",
       "      <td>...</td>\n",
       "      <td>-0.214669</td>\n",
       "      <td>-0.263275</td>\n",
       "      <td>-0.247904</td>\n",
       "      <td>-0.178377</td>\n",
       "      <td>-0.309616</td>\n",
       "      <td>-0.318085</td>\n",
       "      <td>-0.240671</td>\n",
       "      <td>-0.245031</td>\n",
       "      <td>-0.174585</td>\n",
       "      <td>-0.21306</td>\n",
       "    </tr>\n",
       "  </tbody>\n",
       "</table>\n",
       "<p>5 rows × 798 columns</p>\n",
       "</div>"
      ],
      "text/plain": [
       "         MW     Gross_MWh   Net_MWh    Peaker  Gen_Count  RPS_Eligible  \\\n",
       "0 -0.319846 -2.389286e-01 -0.234110 -0.234952  -0.411144     -1.631346   \n",
       "1 -0.263243  2.064922e-16  0.000000 -0.234952  -0.411144     -1.631346   \n",
       "2 -0.263243  2.064922e-16  0.000000 -0.234952  -0.411144     -1.631346   \n",
       "3 -0.188765 -2.008302e-01 -0.201028 -0.234952  -0.411144     -1.631346   \n",
       "4 -0.263243  2.064922e-16  0.000000 -0.234952  -0.411144     -1.631346   \n",
       "\n",
       "   CES30_Percentile  CEC_Jurisdictional_Plant  Elevation  Property_Tax  ...  \\\n",
       "0          0.252193                 -0.259151  -0.770095           0.0  ...   \n",
       "1          0.954348                 -0.259151  -0.298294           0.0  ...   \n",
       "2          0.954348                 -0.259151  -0.297089           0.0  ...   \n",
       "3          0.603271                 -0.259151  -0.044598           0.0  ...   \n",
       "4         -0.684013                 -0.259151  -0.355109           0.0  ...   \n",
       "\n",
       "   CES30_PercentileRange_50-55%  CES30_PercentileRange_55-60%  \\\n",
       "0                     -0.214669                     -0.263275   \n",
       "1                     -0.214669                     -0.263275   \n",
       "2                     -0.214669                     -0.263275   \n",
       "3                     -0.214669                     -0.263275   \n",
       "4                     -0.214669                     -0.263275   \n",
       "\n",
       "   CES30_PercentileRange_60-65%  CES30_PercentileRange_65-70%  \\\n",
       "0                      4.033824                     -0.178377   \n",
       "1                     -0.247904                     -0.178377   \n",
       "2                     -0.247904                     -0.178377   \n",
       "3                     -0.247904                     -0.178377   \n",
       "4                     -0.247904                     -0.178377   \n",
       "\n",
       "   CES30_PercentileRange_70-75%  CES30_PercentileRange_75-80%  \\\n",
       "0                     -0.309616                     -0.318085   \n",
       "1                     -0.309616                      3.143813   \n",
       "2                     -0.309616                      3.143813   \n",
       "3                      3.229807                     -0.318085   \n",
       "4                     -0.309616                     -0.318085   \n",
       "\n",
       "   CES30_PercentileRange_80-85%  CES30_PercentileRange_85-90%  \\\n",
       "0                     -0.240671                     -0.245031   \n",
       "1                     -0.240671                     -0.245031   \n",
       "2                     -0.240671                     -0.245031   \n",
       "3                     -0.240671                     -0.245031   \n",
       "4                     -0.240671                     -0.245031   \n",
       "\n",
       "   CES30_PercentileRange_90-95%  \\\n",
       "0                     -0.174585   \n",
       "1                     -0.174585   \n",
       "2                     -0.174585   \n",
       "3                     -0.174585   \n",
       "4                     -0.174585   \n",
       "\n",
       "   CES30_PercentileRange_95-100% (highest scores)  \n",
       "0                                        -0.21306  \n",
       "1                                        -0.21306  \n",
       "2                                        -0.21306  \n",
       "3                                        -0.21306  \n",
       "4                                        -0.21306  \n",
       "\n",
       "[5 rows x 798 columns]"
      ]
     },
     "execution_count": 35,
     "metadata": {},
     "output_type": "execute_result"
    }
   ],
   "source": [
    "new.head()"
   ]
  },
  {
   "cell_type": "code",
   "execution_count": 37,
   "metadata": {},
   "outputs": [],
   "source": [
    "import numpy as np\n",
    "import pandas as pd\n",
    "from sklearn.neighbors import KNeighborsClassifier\n",
    "from scipy.stats import zscore\n",
    "from sklearn.model_selection import train_test_split\n",
    "from sklearn import metrics\n",
    "import seaborn as sns\n",
    "import matplotlib.pyplot as plt\n",
    "%matplotlib inline "
   ]
  },
  {
   "cell_type": "code",
   "execution_count": 38,
   "metadata": {},
   "outputs": [
    {
     "data": {
      "text/plain": [
       "(1589, 798)"
      ]
     },
     "execution_count": 38,
     "metadata": {},
     "output_type": "execute_result"
    }
   ],
   "source": [
    "x=new\n",
    "y=data['Project_Location']\n",
    "\n",
    "x.head()\n",
    "x.shape\n"
   ]
  },
  {
   "cell_type": "code",
   "execution_count": 39,
   "metadata": {},
   "outputs": [],
   "source": [
    "from sklearn.model_selection import train_test_split\n",
    "\n",
    "xtrain,xtest,ytrain,ytest=train_test_split(x,y,test_size=0.3,random_state=100)"
   ]
  },
  {
   "cell_type": "code",
   "execution_count": 40,
   "metadata": {},
   "outputs": [],
   "source": [
    "from sklearn.neighbors import KNeighborsClassifier\n",
    "from sklearn.metrics import accuracy_score,confusion_matrix,classification_report"
   ]
  },
  {
   "cell_type": "code",
   "execution_count": 41,
   "metadata": {},
   "outputs": [
    {
     "data": {
      "text/plain": [
       "KNeighborsClassifier(algorithm='auto', leaf_size=30, metric='minkowski',\n",
       "           metric_params=None, n_jobs=None, n_neighbors=5, p=2,\n",
       "           weights='uniform')"
      ]
     },
     "execution_count": 41,
     "metadata": {},
     "output_type": "execute_result"
    }
   ],
   "source": [
    "knn=KNeighborsClassifier()\n",
    "\n",
    "knn.fit(xtrain,ytrain)"
   ]
  },
  {
   "cell_type": "code",
   "execution_count": 42,
   "metadata": {},
   "outputs": [],
   "source": [
    "ypred=knn.predict(xtest)"
   ]
  },
  {
   "cell_type": "code",
   "execution_count": 45,
   "metadata": {},
   "outputs": [
    {
     "name": "stdout",
     "output_type": "stream",
     "text": [
      "Accuaracy score for KNeigborsClassifier : 75.68134171907757\n",
      "\n",
      "\n",
      "[[ 40   0   2  34]\n",
      " [  0  11   2  39]\n",
      " [  1   0  12  25]\n",
      " [  9   1   3 298]]\n"
     ]
    }
   ],
   "source": [
    "print('Accuaracy score for KNeigborsClassifier :',accuracy_score(ytest,ypred)*100)\n",
    "print(\"\\n\")\n",
    "print(confusion_matrix(ytest,ypred))"
   ]
  },
  {
   "cell_type": "code",
   "execution_count": 44,
   "metadata": {},
   "outputs": [
    {
     "name": "stdout",
     "output_type": "stream",
     "text": [
      "                                                precision    recall  f1-score   support\n",
      "\n",
      "                       Disadvantaged Community       0.80      0.53      0.63        76\n",
      "                                    Low Income       0.92      0.21      0.34        52\n",
      "        Low Income and Disadvantaged Community       0.63      0.32      0.42        38\n",
      "Neither Low Income Nor Disadvantaged Community       0.75      0.96      0.84       311\n",
      "\n",
      "                                     micro avg       0.76      0.76      0.76       477\n",
      "                                     macro avg       0.78      0.50      0.56       477\n",
      "                                  weighted avg       0.77      0.76      0.72       477\n",
      "\n"
     ]
    }
   ],
   "source": [
    "print(classification_report(ytest,ypred))"
   ]
  },
  {
   "cell_type": "markdown",
   "metadata": {},
   "source": [
    "# Decisoin tree Classifier"
   ]
  },
  {
   "cell_type": "code",
   "execution_count": 46,
   "metadata": {},
   "outputs": [],
   "source": [
    "from sklearn.tree import DecisionTreeClassifier"
   ]
  },
  {
   "cell_type": "code",
   "execution_count": 47,
   "metadata": {},
   "outputs": [],
   "source": [
    "x=new\n",
    "y=data['Project_Location']"
   ]
  },
  {
   "cell_type": "code",
   "execution_count": 48,
   "metadata": {},
   "outputs": [],
   "source": [
    "from sklearn.model_selection import train_test_split"
   ]
  },
  {
   "cell_type": "code",
   "execution_count": 49,
   "metadata": {},
   "outputs": [],
   "source": [
    "xtrain,xtest,ytrain,ytest=train_test_split(x,y,test_size=0.3,random_state=100)"
   ]
  },
  {
   "cell_type": "markdown",
   "metadata": {},
   "source": [
    "# D.Tree with criteria - 'gini'"
   ]
  },
  {
   "cell_type": "code",
   "execution_count": 50,
   "metadata": {},
   "outputs": [],
   "source": [
    "dt=DecisionTreeClassifier(criterion='gini')"
   ]
  },
  {
   "cell_type": "code",
   "execution_count": 51,
   "metadata": {},
   "outputs": [
    {
     "data": {
      "text/plain": [
       "DecisionTreeClassifier(class_weight=None, criterion='gini', max_depth=None,\n",
       "            max_features=None, max_leaf_nodes=None,\n",
       "            min_impurity_decrease=0.0, min_impurity_split=None,\n",
       "            min_samples_leaf=1, min_samples_split=2,\n",
       "            min_weight_fraction_leaf=0.0, presort=False, random_state=None,\n",
       "            splitter='best')"
      ]
     },
     "execution_count": 51,
     "metadata": {},
     "output_type": "execute_result"
    }
   ],
   "source": [
    "dt.fit(xtrain,ytrain)"
   ]
  },
  {
   "cell_type": "code",
   "execution_count": 52,
   "metadata": {},
   "outputs": [],
   "source": [
    "ypred=dt.predict(xtest)"
   ]
  },
  {
   "cell_type": "code",
   "execution_count": 53,
   "metadata": {},
   "outputs": [
    {
     "name": "stdout",
     "output_type": "stream",
     "text": [
      "Accuaracy score for Decison Tree criteria-gini : 100.0\n"
     ]
    }
   ],
   "source": [
    "print('Accuaracy score for Decison Tree criteria-gini :',accuracy_score(ytest,ypred)*100)"
   ]
  },
  {
   "cell_type": "markdown",
   "metadata": {},
   "source": [
    "# D.Tree with criteria - 'entropy'"
   ]
  },
  {
   "cell_type": "code",
   "execution_count": 54,
   "metadata": {},
   "outputs": [],
   "source": [
    "dt=DecisionTreeClassifier(criterion='entropy')"
   ]
  },
  {
   "cell_type": "code",
   "execution_count": 55,
   "metadata": {},
   "outputs": [
    {
     "data": {
      "text/plain": [
       "DecisionTreeClassifier(class_weight=None, criterion='entropy', max_depth=None,\n",
       "            max_features=None, max_leaf_nodes=None,\n",
       "            min_impurity_decrease=0.0, min_impurity_split=None,\n",
       "            min_samples_leaf=1, min_samples_split=2,\n",
       "            min_weight_fraction_leaf=0.0, presort=False, random_state=None,\n",
       "            splitter='best')"
      ]
     },
     "execution_count": 55,
     "metadata": {},
     "output_type": "execute_result"
    }
   ],
   "source": [
    "dt.fit(xtrain,ytrain)"
   ]
  },
  {
   "cell_type": "code",
   "execution_count": 56,
   "metadata": {},
   "outputs": [],
   "source": [
    "ypred=dt.predict(xtest)"
   ]
  },
  {
   "cell_type": "code",
   "execution_count": 57,
   "metadata": {},
   "outputs": [
    {
     "name": "stdout",
     "output_type": "stream",
     "text": [
      "Accuaracy score for Decison Tree criteria-Entropy : 100.0\n"
     ]
    }
   ],
   "source": [
    "print('Accuaracy score for Decison Tree criteria-Entropy :',accuracy_score(ytest,ypred)*100)"
   ]
  },
  {
   "cell_type": "markdown",
   "metadata": {},
   "source": [
    "# Naive Bayes"
   ]
  },
  {
   "cell_type": "code",
   "execution_count": 59,
   "metadata": {},
   "outputs": [],
   "source": [
    "from sklearn.naive_bayes import GaussianNB"
   ]
  },
  {
   "cell_type": "code",
   "execution_count": 60,
   "metadata": {},
   "outputs": [],
   "source": [
    "x=new\n",
    "y=data['Project_Location']"
   ]
  },
  {
   "cell_type": "code",
   "execution_count": 61,
   "metadata": {},
   "outputs": [],
   "source": [
    "from sklearn.model_selection import train_test_split\n",
    "\n",
    "xtrain,xtest,ytrain,ytest=train_test_split(x,y,test_size=0.3,random_state=100)"
   ]
  },
  {
   "cell_type": "code",
   "execution_count": 62,
   "metadata": {},
   "outputs": [
    {
     "data": {
      "text/plain": [
       "GaussianNB(priors=None, var_smoothing=1e-09)"
      ]
     },
     "execution_count": 62,
     "metadata": {},
     "output_type": "execute_result"
    }
   ],
   "source": [
    "model = GaussianNB()\n",
    "model.fit(xtrain, ytrain)"
   ]
  },
  {
   "cell_type": "code",
   "execution_count": 63,
   "metadata": {},
   "outputs": [],
   "source": [
    "ypred=model.predict(xtest)"
   ]
  },
  {
   "cell_type": "code",
   "execution_count": 65,
   "metadata": {},
   "outputs": [
    {
     "name": "stdout",
     "output_type": "stream",
     "text": [
      "                                                precision    recall  f1-score   support\n",
      "\n",
      "                       Disadvantaged Community       0.76      0.54      0.63        76\n",
      "                                    Low Income       0.51      0.71      0.59        52\n",
      "        Low Income and Disadvantaged Community       0.49      0.87      0.62        38\n",
      "Neither Low Income Nor Disadvantaged Community       0.94      0.85      0.89       311\n",
      "\n",
      "                                     micro avg       0.79      0.79      0.79       477\n",
      "                                     macro avg       0.67      0.74      0.68       477\n",
      "                                  weighted avg       0.83      0.79      0.80       477\n",
      "\n",
      "\n",
      "\n",
      "Accuaracy score for Naive Bayes-gaussian 78.82599580712788\n"
     ]
    }
   ],
   "source": [
    "print(metrics.classification_report(ytest,ypred))\n",
    "print('\\n')\n",
    "print('Accuaracy score for Naive Bayes-gaussian',metrics.accuracy_score(ytest,ypred)*100)"
   ]
  },
  {
   "cell_type": "code",
   "execution_count": null,
   "metadata": {},
   "outputs": [],
   "source": []
  }
 ],
 "metadata": {
  "kernelspec": {
   "display_name": "Python 3",
   "language": "python",
   "name": "python3"
  },
  "language_info": {
   "codemirror_mode": {
    "name": "ipython",
    "version": 3
   },
   "file_extension": ".py",
   "mimetype": "text/x-python",
   "name": "python",
   "nbconvert_exporter": "python",
   "pygments_lexer": "ipython3",
   "version": "3.7.3"
  }
 },
 "nbformat": 4,
 "nbformat_minor": 2
}
